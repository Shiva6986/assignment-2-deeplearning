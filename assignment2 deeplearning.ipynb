{
 "cells": [
  {
   "cell_type": "code",
   "execution_count": 1,
   "id": "9aa93262",
   "metadata": {},
   "outputs": [
    {
     "name": "stdout",
     "output_type": "stream",
     "text": [
      "enter first name : good \n",
      "enter last name : evening\n",
      "User full name :  good  evening\n",
      "Alternate String :  go eeig\n"
     ]
    }
   ],
   "source": [
    "first_name= input(\"enter first name : \")\n",
    "last_name= input(\"enter last name : \")\n",
    "\n",
    "def full_name(first_name,last_name):\n",
    "    return first_name +\" \"+last_name\n",
    "\n",
    "def string_alternative(full_name):\n",
    "    new_str = \"\"\n",
    "    for index in range(0,len(full_name),2):\n",
    "                       new_str+=full_name[index]        \n",
    "    return new_str               \n",
    "\n",
    "\n",
    "print(\"User full name : \",full_name(first_name,last_name))\n",
    "\n",
    "print(\"Alternate String : \",string_alternative(full_name(first_name,last_name)))"
   ]
  },
  {
   "cell_type": "code",
   "execution_count": 3,
   "id": "99443932",
   "metadata": {},
   "outputs": [
    {
     "name": "stdout",
     "output_type": "stream",
     "text": [
      "Python Course\n",
      "Deep Learning Course\n",
      "Word_Count:\n",
      "Python: 1\n",
      "Course: 2\n",
      "Deep: 1\n",
      "Learning: 1\n"
     ]
    }
   ],
   "source": [
    "count = {}\n",
    "with open('input.txt', 'r') as f:\n",
    "    lines = [line.rstrip() for line in f]  \n",
    "    # read lines from input\n",
    "\n",
    "for line in lines:\n",
    "    print(line)  \n",
    "    # prints each line\n",
    "    words = line.split()  \n",
    "    # It split the line to get words\n",
    "    for word in words:  \n",
    "        # loop for each word\n",
    "        if word in count:  \n",
    "            # it checks  if the word already present\n",
    "            count[word] += 1  \n",
    "            # It increases count\n",
    "        else:\n",
    "            # else insert the word\n",
    "            count[word] = 1  \n",
    "            \n",
    "\n",
    "print('Word_Count:')  \n",
    "# print word counts\n",
    "for key, value in count.items():\n",
    "    print(f'{key}: {value}')"
   ]
  },
  {
   "cell_type": "code",
   "execution_count": 4,
   "id": "bd00396e",
   "metadata": {},
   "outputs": [
    {
     "name": "stdout",
     "output_type": "stream",
     "text": [
      "enter customer heights : 150 155 145 148\n",
      "show list :  [381.0, 393.7, 368.3, 375.92]\n"
     ]
    }
   ],
   "source": [
    "data = input(\"enter customer heights : \")\n",
    "\n",
    "def inchToCent(value):\n",
    "    return value*2.54\n",
    "\n",
    "heights = data.split()\n",
    "\n",
    "new_list = []\n",
    "\n",
    "for x in heights:\n",
    "    value = int(x)\n",
    "    new_list.append(inchToCent(value))\n",
    "    \n",
    "print(\"show list : \",new_list)"
   ]
  }
 ],
 "metadata": {
  "kernelspec": {
   "display_name": "Python 3 (ipykernel)",
   "language": "python",
   "name": "python3"
  },
  "language_info": {
   "codemirror_mode": {
    "name": "ipython",
    "version": 3
   },
   "file_extension": ".py",
   "mimetype": "text/x-python",
   "name": "python",
   "nbconvert_exporter": "python",
   "pygments_lexer": "ipython3",
   "version": "3.9.13"
  }
 },
 "nbformat": 4,
 "nbformat_minor": 5
}
